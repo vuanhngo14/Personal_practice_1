{
  "cells": [
    {
      "cell_type": "code",
      "execution_count": 1,
      "metadata": {
        "id": "R0NYiVRO0Qj0"
      },
      "outputs": [],
      "source": [
        "import pandas as pd\n",
        "import matplotlib.pyplot as plt\n",
        "from scipy.stats import chi2_contingency\n"
      ]
    },
    {
      "cell_type": "code",
      "execution_count": 2,
      "metadata": {
        "id": "ZIy9Y2cM0X72"
      },
      "outputs": [],
      "source": [
        "# Read in CSV File\n",
        "document_check = 'document_check_sample.csv'\n",
        "facial_report = 'facial_report_sample.csv'\n",
        "\n",
        "document_df = pd.read_csv(document_check)\n",
        "facial_df = pd.read_csv(facial_report)\n"
      ]
    },
    {
      "cell_type": "markdown",
      "metadata": {},
      "source": [
        "## Understand the attributes of data frames: \n",
        "- What are the attributes \n",
        "- What are their unique values "
      ]
    },
    {
      "cell_type": "code",
      "execution_count": 3,
      "metadata": {
        "colab": {
          "base_uri": "https://localhost:8080/"
        },
        "id": "Usq6I6Hu0sui",
        "outputId": "e1f28987-ff7c-401a-8e5a-f9ee3b73d3cd"
      },
      "outputs": [
        {
          "name": "stdout",
          "output_type": "stream",
          "text": [
            "<class 'pandas.core.frame.DataFrame'>\n",
            "RangeIndex: 11760 entries, 0 to 11759\n",
            "Data columns (total 19 columns):\n",
            " #   Column                              Non-Null Count  Dtype  \n",
            "---  ------                              --------------  -----  \n",
            " 0   Unnamed: 0                          5880 non-null   float64\n",
            " 1   user_id                             5880 non-null   object \n",
            " 2   result                              5880 non-null   object \n",
            " 3   visual_authenticity_result          4991 non-null   object \n",
            " 4   image_integrity_result              5880 non-null   object \n",
            " 5   face_detection_result               4990 non-null   object \n",
            " 6   image_quality_result                5880 non-null   object \n",
            " 7   created_at                          5880 non-null   object \n",
            " 8   supported_document_result           5869 non-null   object \n",
            " 9   conclusive_document_quality_result  3140 non-null   object \n",
            " 10  colour_picture_result               3140 non-null   object \n",
            " 11  data_validation_result              4739 non-null   object \n",
            " 12  data_consistency_result             3025 non-null   object \n",
            " 13  data_comparison_result              85 non-null     object \n",
            " 14  attempt_id                          5880 non-null   object \n",
            " 15  police_record_result                4791 non-null   object \n",
            " 16  compromised_document_result         1524 non-null   object \n",
            " 17  properties                          5880 non-null   object \n",
            " 18  sub_result                          5880 non-null   object \n",
            "dtypes: float64(1), object(18)\n",
            "memory usage: 1.7+ MB\n"
          ]
        }
      ],
      "source": [
        "# Understand the attributes\n",
        "document_df.info()"
      ]
    },
    {
      "cell_type": "code",
      "execution_count": 4,
      "metadata": {},
      "outputs": [
        {
          "name": "stdout",
          "output_type": "stream",
          "text": [
            "<class 'pandas.core.frame.DataFrame'>\n",
            "RangeIndex: 11760 entries, 0 to 11759\n",
            "Data columns (total 9 columns):\n",
            " #   Column                         Non-Null Count  Dtype  \n",
            "---  ------                         --------------  -----  \n",
            " 0   Unnamed: 0                     5880 non-null   float64\n",
            " 1   user_id                        5880 non-null   object \n",
            " 2   result                         5880 non-null   object \n",
            " 3   face_comparison_result         5535 non-null   object \n",
            " 4   created_at                     5880 non-null   object \n",
            " 5   facial_image_integrity_result  5861 non-null   object \n",
            " 6   visual_authenticity_result     4991 non-null   object \n",
            " 7   properties                     5880 non-null   object \n",
            " 8   attempt_id                     5880 non-null   object \n",
            "dtypes: float64(1), object(8)\n",
            "memory usage: 827.0+ KB\n"
          ]
        }
      ],
      "source": [
        "# Understand the attributes\n",
        "facial_df.info()"
      ]
    },
    {
      "cell_type": "markdown",
      "metadata": {},
      "source": [
        "## Dropping Nan vales \n",
        "- Based on the information above, there are 11760 entries, however there are only 5880 rows with result. Which means we canont make any assumption out of the rows with no result\n",
        "- Hence, I will decide to drop all those rows"
      ]
    },
    {
      "cell_type": "code",
      "execution_count": 5,
      "metadata": {},
      "outputs": [],
      "source": [
        "# Dropping the rows with Na values for result\n",
        "document_df = document_df.dropna(subset=['result']).reset_index(drop=True)\n",
        "facial_df = facial_df.dropna(subset=['result']).reset_index(drop=True)\n",
        "\n"
      ]
    },
    {
      "cell_type": "markdown",
      "metadata": {},
      "source": [
        "## Handling document file"
      ]
    },
    {
      "cell_type": "code",
      "execution_count": 6,
      "metadata": {},
      "outputs": [],
      "source": [
        "# Remmove unrelevant attributes\n",
        "\n",
        "document_importantAttr = [\n",
        " 'result', \n",
        " 'visual_authenticity_result',\n",
        " 'image_integrity_result',\n",
        " 'face_detection_result',\n",
        " 'image_quality_result',\n",
        " 'created_at',\n",
        " 'supported_document_result',\n",
        " 'conclusive_document_quality_result',\n",
        " 'colour_picture_result',\n",
        " 'data_validation_result',\n",
        " 'data_consistency_result',\n",
        " 'data_comparison_result',\n",
        " 'police_record_result',\n",
        " 'compromised_document_result',]"
      ]
    },
    {
      "cell_type": "code",
      "execution_count": 7,
      "metadata": {},
      "outputs": [
        {
          "name": "stdout",
          "output_type": "stream",
          "text": [
            "<class 'pandas.core.series.Series'>\n",
            "RangeIndex: 5880 entries, 0 to 5879\n",
            "Series name: created_at\n",
            "Non-Null Count  Dtype         \n",
            "--------------  -----         \n",
            "5880 non-null   datetime64[ns]\n",
            "dtypes: datetime64[ns](1)\n",
            "memory usage: 46.1 KB\n"
          ]
        }
      ],
      "source": [
        "# Currently, the date time is object so it will not be sorted correctly. We will convert that to date-time format\n",
        "\n",
        "document_df['created_at'] = pd.to_datetime(document_df['created_at'], format='%d/%m/%Y %H:%M')\n",
        "document_df['created_at'].info()\n"
      ]
    },
    {
      "cell_type": "code",
      "execution_count": 8,
      "metadata": {},
      "outputs": [],
      "source": [
        "# Since the result recently decreased, sort the dataset by date 'created_at' \n",
        "\n",
        "document_filtered = document_df[document_importantAttr]\n",
        "document_filtered = document_filtered.sort_values(by='created_at').reset_index(drop=True)"
      ]
    },
    {
      "cell_type": "code",
      "execution_count": 9,
      "metadata": {},
      "outputs": [],
      "source": [
        "# Check the unique values in all attributes \n",
        "\n",
        "for attribute in document_importantAttr:\n",
        "    unique_values = document_filtered[attribute].unique()\n",
        "    # print(f\"Unique values for {attribute}:\\n{unique_values}\\n\")\n"
      ]
    },
    {
      "cell_type": "code",
      "execution_count": 61,
      "metadata": {},
      "outputs": [],
      "source": [
        "# Create a pipeline to group by created date to see the trend \n",
        "def groupping(divided_doc):\n",
        "\n",
        "    result_counts = divided_doc.resample('M', on='created_at')['visual_authenticity_result'].value_counts().unstack()\n",
        "    result_counts = result_counts.fillna(0)\n",
        "\n",
        "    result_counts['nan_count'] = divided_doc[divided_doc['visual_authenticity_result'].isna()].resample('M', on='created_at').size()\n",
        "    result_counts['nan_count'] = result_counts['nan_count'].fillna(0)\n",
        "\n",
        "    result_counts.index = result_counts.index.strftime('%Y-%m')\n",
        "\n",
        "    return result_counts\n"
      ]
    },
    {
      "cell_type": "code",
      "execution_count": 64,
      "metadata": {},
      "outputs": [],
      "source": [
        "divide = ['created_at', 'visual_authenticity_result']\n",
        "divided_doc = document_filtered[divide]\n",
        "result_counts = groupping(divided_doc)\n",
        "\n",
        "\n"
      ]
    },
    {
      "cell_type": "code",
      "execution_count": 20,
      "metadata": {},
      "outputs": [
        {
          "name": "stdout",
          "output_type": "stream",
          "text": [
            "result\n",
            "visual_authenticity_result\n",
            "image_integrity_result\n",
            "face_detection_result\n",
            "image_quality_result\n",
            "created_at\n",
            "supported_document_result\n",
            "conclusive_document_quality_result\n",
            "colour_picture_result\n",
            "data_validation_result\n",
            "data_consistency_result\n",
            "data_comparison_result\n",
            "police_record_result\n",
            "compromised_document_result\n"
          ]
        }
      ],
      "source": [
        "for value in document_importantAttr:\n",
        "    print(value)"
      ]
    },
    {
      "cell_type": "code",
      "execution_count": 72,
      "metadata": {},
      "outputs": [],
      "source": [
        "def plotting(result_counts):\n",
        "\n",
        "    result_counts.plot(kind='bar', stacked=True, figsize=(12, 6))\n",
        "\n",
        "    # Add labels and title\n",
        "    plt.title('Visual Authenticity Result Trend Over Months')\n",
        "    plt.xlabel('Month')\n",
        "    plt.ylabel('Count')\n",
        "    plt.legend(title='Visual Authenticity Result')\n",
        "\n",
        "    # Show the plot\n",
        "    plt.show()\n"
      ]
    },
    {
      "cell_type": "code",
      "execution_count": null,
      "metadata": {},
      "outputs": [],
      "source": []
    }
  ],
  "metadata": {
    "colab": {
      "provenance": []
    },
    "kernelspec": {
      "display_name": "Python 3",
      "name": "python3"
    },
    "language_info": {
      "codemirror_mode": {
        "name": "ipython",
        "version": 3
      },
      "file_extension": ".py",
      "mimetype": "text/x-python",
      "name": "python",
      "nbconvert_exporter": "python",
      "pygments_lexer": "ipython3",
      "version": "3.8.18"
    }
  },
  "nbformat": 4,
  "nbformat_minor": 0
}
