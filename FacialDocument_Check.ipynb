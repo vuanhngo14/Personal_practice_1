{
  "cells": [
    {
      "cell_type": "code",
      "execution_count": 21,
      "metadata": {
        "id": "R0NYiVRO0Qj0"
      },
      "outputs": [],
      "source": [
        "import pandas as pd\n",
        "import matplotlib.pyplot as plt\n"
      ]
    },
    {
      "cell_type": "code",
      "execution_count": 46,
      "metadata": {
        "id": "ZIy9Y2cM0X72"
      },
      "outputs": [],
      "source": [
        "# Read in CSV File\n",
        "document_check = 'document_check_sample.csv'\n",
        "facial_report = 'facial_report_sample.csv'\n",
        "\n",
        "document_df = pd.read_csv(document_check)\n",
        "facial_df = pd.read_csv(facial_report)\n"
      ]
    },
    {
      "cell_type": "markdown",
      "metadata": {},
      "source": [
        "## Understand the attributes of data frames: \n",
        "- What are the attributes \n",
        "- What are their unique values "
      ]
    },
    {
      "cell_type": "code",
      "execution_count": 47,
      "metadata": {
        "colab": {
          "base_uri": "https://localhost:8080/"
        },
        "id": "Usq6I6Hu0sui",
        "outputId": "e1f28987-ff7c-401a-8e5a-f9ee3b73d3cd"
      },
      "outputs": [
        {
          "name": "stdout",
          "output_type": "stream",
          "text": [
            "<class 'pandas.core.frame.DataFrame'>\n",
            "RangeIndex: 11760 entries, 0 to 11759\n",
            "Data columns (total 19 columns):\n",
            " #   Column                              Non-Null Count  Dtype  \n",
            "---  ------                              --------------  -----  \n",
            " 0   Unnamed: 0                          5880 non-null   float64\n",
            " 1   user_id                             5880 non-null   object \n",
            " 2   result                              5880 non-null   object \n",
            " 3   visual_authenticity_result          4991 non-null   object \n",
            " 4   image_integrity_result              5880 non-null   object \n",
            " 5   face_detection_result               4990 non-null   object \n",
            " 6   image_quality_result                5880 non-null   object \n",
            " 7   created_at                          5880 non-null   object \n",
            " 8   supported_document_result           5869 non-null   object \n",
            " 9   conclusive_document_quality_result  3140 non-null   object \n",
            " 10  colour_picture_result               3140 non-null   object \n",
            " 11  data_validation_result              4739 non-null   object \n",
            " 12  data_consistency_result             3025 non-null   object \n",
            " 13  data_comparison_result              85 non-null     object \n",
            " 14  attempt_id                          5880 non-null   object \n",
            " 15  police_record_result                4791 non-null   object \n",
            " 16  compromised_document_result         1524 non-null   object \n",
            " 17  properties                          5880 non-null   object \n",
            " 18  sub_result                          5880 non-null   object \n",
            "dtypes: float64(1), object(18)\n",
            "memory usage: 1.7+ MB\n"
          ]
        }
      ],
      "source": [
        "# Understand the attributes\n",
        "document_df.info()"
      ]
    },
    {
      "cell_type": "markdown",
      "metadata": {},
      "source": [
        "## Dropping Nan vales \n",
        "- Based on the information above, there are 11760 entries, however there are only 5880 rows with result. Which means we canont make any assumption out of the rows with no result\n",
        "- Hence, I will decide to drop all those rows"
      ]
    },
    {
      "cell_type": "code",
      "execution_count": 50,
      "metadata": {},
      "outputs": [],
      "source": [
        "# Dropping the rows with Na values for result\n",
        "document_df = document_df.dropna(subset=['result'])\n"
      ]
    },
    {
      "cell_type": "code",
      "execution_count": 51,
      "metadata": {},
      "outputs": [],
      "source": [
        "# Remove unique attributes such as ID\n",
        "\n",
        "document_importantAttr = [\n",
        " 'result', \n",
        " 'visual_authenticity_result',\n",
        " 'image_integrity_result',\n",
        " 'face_detection_result',\n",
        " 'image_quality_result',\n",
        " 'created_at',\n",
        " 'supported_document_result',\n",
        " 'conclusive_document_quality_result',\n",
        " 'colour_picture_result',\n",
        " 'data_validation_result',\n",
        " 'data_consistency_result',\n",
        " 'data_comparison_result',\n",
        " 'police_record_result',\n",
        " 'compromised_document_result',\n",
        " 'sub_result' ]"
      ]
    },
    {
      "cell_type": "code",
      "execution_count": 52,
      "metadata": {},
      "outputs": [],
      "source": [
        "document_filterd = document_df[document_importantAttr]\n"
      ]
    },
    {
      "cell_type": "code",
      "execution_count": 14,
      "metadata": {},
      "outputs": [
        {
          "data": {
            "text/plain": [
              "['Unnamed: 0',\n",
              " 'user_id',\n",
              " 'result',\n",
              " 'face_comparison_result',\n",
              " 'created_at',\n",
              " 'facial_image_integrity_result',\n",
              " 'visual_authenticity_result',\n",
              " 'properties',\n",
              " 'attempt_id']"
            ]
          },
          "execution_count": 14,
          "metadata": {},
          "output_type": "execute_result"
        }
      ],
      "source": [
        "# Understand the attributes\n",
        "facial_df.columns.tolist()"
      ]
    },
    {
      "cell_type": "code",
      "execution_count": 16,
      "metadata": {
        "id": "-HeG4Vv32LOT"
      },
      "outputs": [],
      "source": [
        "# Since the result recently decreased, sort the dataset by date 'created_at' \n",
        "document_df_sorted = document_df.sort_values(by='created_at')"
      ]
    }
  ],
  "metadata": {
    "colab": {
      "provenance": []
    },
    "kernelspec": {
      "display_name": "Python 3",
      "name": "python3"
    },
    "language_info": {
      "codemirror_mode": {
        "name": "ipython",
        "version": 3
      },
      "file_extension": ".py",
      "mimetype": "text/x-python",
      "name": "python",
      "nbconvert_exporter": "python",
      "pygments_lexer": "ipython3",
      "version": "3.10.9"
    }
  },
  "nbformat": 4,
  "nbformat_minor": 0
}
