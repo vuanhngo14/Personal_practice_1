{
  "cells": [
    {
      "cell_type": "code",
      "execution_count": 1,
      "metadata": {
        "id": "R0NYiVRO0Qj0"
      },
      "outputs": [],
      "source": [
        "import pandas as pd\n",
        "import matplotlib.pyplot as plt\n",
        "from scipy.stats import chi2_contingency"
      ]
    },
    {
      "cell_type": "code",
      "execution_count": 2,
      "metadata": {
        "id": "ZIy9Y2cM0X72"
      },
      "outputs": [],
      "source": [
        "# Read in CSV File\n",
        "document_check = 'document_check_sample.csv'\n",
        "facial_report = 'facial_report_sample.csv'\n",
        "\n",
        "document_df = pd.read_csv(document_check)\n",
        "facial_df = pd.read_csv(facial_report)\n"
      ]
    },
    {
      "cell_type": "markdown",
      "metadata": {},
      "source": [
        "## Understand the attributes of data frames: \n",
        "- What are the attributes \n",
        "- What are their unique values "
      ]
    },
    {
      "cell_type": "code",
      "execution_count": 3,
      "metadata": {
        "colab": {
          "base_uri": "https://localhost:8080/"
        },
        "id": "Usq6I6Hu0sui",
        "outputId": "e1f28987-ff7c-401a-8e5a-f9ee3b73d3cd"
      },
      "outputs": [
        {
          "name": "stdout",
          "output_type": "stream",
          "text": [
            "<class 'pandas.core.frame.DataFrame'>\n",
            "RangeIndex: 11760 entries, 0 to 11759\n",
            "Data columns (total 19 columns):\n",
            " #   Column                              Non-Null Count  Dtype  \n",
            "---  ------                              --------------  -----  \n",
            " 0   Unnamed: 0                          5880 non-null   float64\n",
            " 1   user_id                             5880 non-null   object \n",
            " 2   result                              5880 non-null   object \n",
            " 3   visual_authenticity_result          4991 non-null   object \n",
            " 4   image_integrity_result              5880 non-null   object \n",
            " 5   face_detection_result               4990 non-null   object \n",
            " 6   image_quality_result                5880 non-null   object \n",
            " 7   created_at                          5880 non-null   object \n",
            " 8   supported_document_result           5869 non-null   object \n",
            " 9   conclusive_document_quality_result  3140 non-null   object \n",
            " 10  colour_picture_result               3140 non-null   object \n",
            " 11  data_validation_result              4739 non-null   object \n",
            " 12  data_consistency_result             3025 non-null   object \n",
            " 13  data_comparison_result              85 non-null     object \n",
            " 14  attempt_id                          5880 non-null   object \n",
            " 15  police_record_result                4791 non-null   object \n",
            " 16  compromised_document_result         1524 non-null   object \n",
            " 17  properties                          5880 non-null   object \n",
            " 18  sub_result                          5880 non-null   object \n",
            "dtypes: float64(1), object(18)\n",
            "memory usage: 1.7+ MB\n"
          ]
        }
      ],
      "source": [
        "# Understand the attributes\n",
        "document_df.info()"
      ]
    },
    {
      "cell_type": "code",
      "execution_count": 4,
      "metadata": {},
      "outputs": [
        {
          "name": "stdout",
          "output_type": "stream",
          "text": [
            "<class 'pandas.core.frame.DataFrame'>\n",
            "RangeIndex: 11760 entries, 0 to 11759\n",
            "Data columns (total 9 columns):\n",
            " #   Column                         Non-Null Count  Dtype  \n",
            "---  ------                         --------------  -----  \n",
            " 0   Unnamed: 0                     5880 non-null   float64\n",
            " 1   user_id                        5880 non-null   object \n",
            " 2   result                         5880 non-null   object \n",
            " 3   face_comparison_result         5535 non-null   object \n",
            " 4   created_at                     5880 non-null   object \n",
            " 5   facial_image_integrity_result  5861 non-null   object \n",
            " 6   visual_authenticity_result     4991 non-null   object \n",
            " 7   properties                     5880 non-null   object \n",
            " 8   attempt_id                     5880 non-null   object \n",
            "dtypes: float64(1), object(8)\n",
            "memory usage: 827.0+ KB\n"
          ]
        }
      ],
      "source": [
        "# Understand the attributes\n",
        "facial_df.info()"
      ]
    },
    {
      "cell_type": "markdown",
      "metadata": {},
      "source": [
        "## Dropping Nan vales \n",
        "- Based on the information above, there are 11760 entries, however there are only 5880 rows with result. Which means we canont make any assumption out of the rows with no result\n",
        "- Hence, I will decide to drop all those rows"
      ]
    },
    {
      "cell_type": "code",
      "execution_count": 5,
      "metadata": {},
      "outputs": [],
      "source": [
        "# Dropping the rows with Na values for result\n",
        "document_df = document_df.dropna(subset=['result']).reset_index(drop=True)\n",
        "facial_df = facial_df.dropna(subset=['result']).reset_index(drop=True)\n",
        "\n"
      ]
    },
    {
      "cell_type": "markdown",
      "metadata": {},
      "source": [
        "## Handling document file"
      ]
    },
    {
      "cell_type": "code",
      "execution_count": 6,
      "metadata": {},
      "outputs": [],
      "source": [
        "# Remmove unrelevant attributes\n",
        "\n",
        "document_importantAttr = [\n",
        " 'result', \n",
        " 'visual_authenticity_result',\n",
        " 'image_integrity_result',\n",
        " 'face_detection_result',\n",
        " 'image_quality_result',\n",
        " 'created_at',\n",
        " 'supported_document_result',\n",
        " 'conclusive_document_quality_result',\n",
        " 'colour_picture_result',\n",
        " 'data_validation_result',\n",
        " 'data_consistency_result',\n",
        " 'data_comparison_result',\n",
        " 'police_record_result',\n",
        " 'compromised_document_result',]"
      ]
    },
    {
      "cell_type": "code",
      "execution_count": 7,
      "metadata": {},
      "outputs": [
        {
          "name": "stdout",
          "output_type": "stream",
          "text": [
            "<class 'pandas.core.series.Series'>\n",
            "RangeIndex: 5880 entries, 0 to 5879\n",
            "Series name: created_at\n",
            "Non-Null Count  Dtype         \n",
            "--------------  -----         \n",
            "5880 non-null   datetime64[ns]\n",
            "dtypes: datetime64[ns](1)\n",
            "memory usage: 46.1 KB\n"
          ]
        }
      ],
      "source": [
        "# Currently, the date time is object so it will not be sorted correctly. We will convert that to date-time format\n",
        "\n",
        "document_df['created_at'] = pd.to_datetime(document_df['created_at'], format='%d/%m/%Y %H:%M')\n",
        "document_df['created_at'].info()\n"
      ]
    },
    {
      "cell_type": "code",
      "execution_count": 8,
      "metadata": {},
      "outputs": [],
      "source": [
        "# Since the result recently decreased, sort the dataset by date 'created_at' \n",
        "\n",
        "document_filtered = document_df[document_importantAttr]\n",
        "document_filtered = document_filtered.sort_values(by='created_at').reset_index(drop=True)"
      ]
    },
    {
      "cell_type": "code",
      "execution_count": 9,
      "metadata": {},
      "outputs": [
        {
          "name": "stdout",
          "output_type": "stream",
          "text": [
            "Unique values for result:\n",
            "['clear' 'consider']\n",
            "\n",
            "Unique values for visual_authenticity_result:\n",
            "['clear' 'consider' nan]\n",
            "\n",
            "Unique values for image_integrity_result:\n",
            "['clear' 'consider']\n",
            "\n",
            "Unique values for face_detection_result:\n",
            "['clear' nan 'consider']\n",
            "\n",
            "Unique values for image_quality_result:\n",
            "['clear' 'unidentified']\n",
            "\n",
            "Unique values for created_at:\n",
            "['2017-05-23T17:25:00.000000000' '2017-05-23T19:17:00.000000000'\n",
            " '2017-05-23T20:49:00.000000000' ... '2017-10-31T21:11:00.000000000'\n",
            " '2017-10-31T21:46:00.000000000' '2017-10-31T22:06:00.000000000']\n",
            "\n",
            "Unique values for supported_document_result:\n",
            "['clear' nan 'unidentified']\n",
            "\n",
            "Unique values for conclusive_document_quality_result:\n",
            "[nan 'clear' 'consider']\n",
            "\n",
            "Unique values for colour_picture_result:\n",
            "[nan 'clear' 'consider']\n",
            "\n",
            "Unique values for data_validation_result:\n",
            "['clear' nan 'consider']\n",
            "\n",
            "Unique values for data_consistency_result:\n",
            "[nan 'clear' 'consider']\n",
            "\n",
            "Unique values for data_comparison_result:\n",
            "['clear' 'consider' nan]\n",
            "\n",
            "Unique values for police_record_result:\n",
            "['clear' nan]\n",
            "\n",
            "Unique values for compromised_document_result:\n",
            "[nan 'clear']\n",
            "\n"
          ]
        }
      ],
      "source": [
        "# Check the unique values in all attributes \n",
        "\n",
        "for attribute in document_importantAttr:\n",
        "    unique_values = document_filtered[attribute].unique()\n",
        "    print(f\"Unique values for {attribute}:\\n{unique_values}\\n\")\n"
      ]
    },
    {
      "cell_type": "code",
      "execution_count": 10,
      "metadata": {},
      "outputs": [],
      "source": [
        "divide = ['created_at', 'visual_authenticity_result', 'image_integrity_result'  ]\n",
        "\n",
        "divided_doc = document_filtered[divide]"
      ]
    },
    {
      "cell_type": "code",
      "execution_count": 11,
      "metadata": {},
      "outputs": [
        {
          "name": "stdout",
          "output_type": "stream",
          "text": [
            "<class 'pandas.core.frame.DataFrame'>\n",
            "RangeIndex: 5880 entries, 0 to 5879\n",
            "Data columns (total 3 columns):\n",
            " #   Column                      Non-Null Count  Dtype         \n",
            "---  ------                      --------------  -----         \n",
            " 0   created_at                  5880 non-null   datetime64[ns]\n",
            " 1   visual_authenticity_result  4991 non-null   object        \n",
            " 2   image_integrity_result      5880 non-null   object        \n",
            "dtypes: datetime64[ns](1), object(2)\n",
            "memory usage: 137.9+ KB\n"
          ]
        }
      ],
      "source": [
        "divided_doc.info()"
      ]
    },
    {
      "cell_type": "code",
      "execution_count": 12,
      "metadata": {},
      "outputs": [
        {
          "data": {
            "text/plain": [
              "array(['clear', 'consider', nan], dtype=object)"
            ]
          },
          "execution_count": 12,
          "metadata": {},
          "output_type": "execute_result"
        }
      ],
      "source": [
        "divided_doc['visual_authenticity_result'].unique()"
      ]
    },
    {
      "cell_type": "code",
      "execution_count": 13,
      "metadata": {},
      "outputs": [
        {
          "name": "stderr",
          "output_type": "stream",
          "text": [
            "C:\\Users\\vuanh\\AppData\\Local\\Temp\\ipykernel_3020\\2681337610.py:2: SettingWithCopyWarning: \n",
            "A value is trying to be set on a copy of a slice from a DataFrame.\n",
            "Try using .loc[row_indexer,col_indexer] = value instead\n",
            "\n",
            "See the caveats in the documentation: https://pandas.pydata.org/pandas-docs/stable/user_guide/indexing.html#returning-a-view-versus-a-copy\n",
            "  divided_doc['date'] = divided_doc['created_at'].dt.date\n",
            "C:\\Users\\vuanh\\AppData\\Local\\Temp\\ipykernel_3020\\2681337610.py:3: SettingWithCopyWarning: \n",
            "A value is trying to be set on a copy of a slice from a DataFrame.\n",
            "Try using .loc[row_indexer,col_indexer] = value instead\n",
            "\n",
            "See the caveats in the documentation: https://pandas.pydata.org/pandas-docs/stable/user_guide/indexing.html#returning-a-view-versus-a-copy\n",
            "  divided_doc['month'] = divided_doc['created_at'].dt.to_period('M')\n"
          ]
        },
        {
          "ename": "ValueError",
          "evalue": "Length of values (159) does not match length of index (5880)",
          "output_type": "error",
          "traceback": [
            "\u001b[1;31m---------------------------------------------------------------------------\u001b[0m",
            "\u001b[1;31mValueError\u001b[0m                                Traceback (most recent call last)",
            "\u001b[1;32mc:\\Users\\vuanh\\OneDrive - SIM - Singapore Institute of Management\\Desktop\\Gitub Repo\\DKSH_Assesment\\FacialDocument_Check.ipynb Cell 16\u001b[0m line \u001b[0;36m1\n\u001b[0;32m     <a href='vscode-notebook-cell:/c%3A/Users/vuanh/OneDrive%20-%20SIM%20-%20Singapore%20Institute%20of%20Management/Desktop/Gitub%20Repo/DKSH_Assesment/FacialDocument_Check.ipynb#X41sZmlsZQ%3D%3D?line=9'>10</a>\u001b[0m \u001b[39m# Iterate through each attribute and count occurrences\u001b[39;00m\n\u001b[0;32m     <a href='vscode-notebook-cell:/c%3A/Users/vuanh/OneDrive%20-%20SIM%20-%20Singapore%20Institute%20of%20Management/Desktop/Gitub%20Repo/DKSH_Assesment/FacialDocument_Check.ipynb#X41sZmlsZQ%3D%3D?line=10'>11</a>\u001b[0m \u001b[39mfor\u001b[39;00m attribute \u001b[39min\u001b[39;00m col:\n\u001b[1;32m---> <a href='vscode-notebook-cell:/c%3A/Users/vuanh/OneDrive%20-%20SIM%20-%20Singapore%20Institute%20of%20Management/Desktop/Gitub%20Repo/DKSH_Assesment/FacialDocument_Check.ipynb#X41sZmlsZQ%3D%3D?line=11'>12</a>\u001b[0m     result_counts[attribute] \u001b[39m=\u001b[39m divided_doc\u001b[39m.\u001b[39mgroupby([\u001b[39m'\u001b[39m\u001b[39mdate\u001b[39m\u001b[39m'\u001b[39m, \u001b[39m'\u001b[39m\u001b[39mmonth\u001b[39m\u001b[39m'\u001b[39m, attribute])\u001b[39m.\u001b[39msize()\u001b[39m.\u001b[39munstack(fill_value\u001b[39m=\u001b[39m\u001b[39m0\u001b[39m)\u001b[39m.\u001b[39mvalues[:, \u001b[39m0\u001b[39m]\n",
            "File \u001b[1;32mc:\\Users\\vuanh\\anaconda3\\lib\\site-packages\\pandas\\core\\frame.py:3980\u001b[0m, in \u001b[0;36mDataFrame.__setitem__\u001b[1;34m(self, key, value)\u001b[0m\n\u001b[0;32m   3977\u001b[0m     \u001b[39mself\u001b[39m\u001b[39m.\u001b[39m_setitem_array([key], value)\n\u001b[0;32m   3978\u001b[0m \u001b[39melse\u001b[39;00m:\n\u001b[0;32m   3979\u001b[0m     \u001b[39m# set column\u001b[39;00m\n\u001b[1;32m-> 3980\u001b[0m     \u001b[39mself\u001b[39;49m\u001b[39m.\u001b[39;49m_set_item(key, value)\n",
            "File \u001b[1;32mc:\\Users\\vuanh\\anaconda3\\lib\\site-packages\\pandas\\core\\frame.py:4174\u001b[0m, in \u001b[0;36mDataFrame._set_item\u001b[1;34m(self, key, value)\u001b[0m\n\u001b[0;32m   4164\u001b[0m \u001b[39mdef\u001b[39;00m \u001b[39m_set_item\u001b[39m(\u001b[39mself\u001b[39m, key, value) \u001b[39m-\u001b[39m\u001b[39m>\u001b[39m \u001b[39mNone\u001b[39;00m:\n\u001b[0;32m   4165\u001b[0m     \u001b[39m\"\"\"\u001b[39;00m\n\u001b[0;32m   4166\u001b[0m \u001b[39m    Add series to DataFrame in specified column.\u001b[39;00m\n\u001b[0;32m   4167\u001b[0m \n\u001b[1;32m   (...)\u001b[0m\n\u001b[0;32m   4172\u001b[0m \u001b[39m    ensure homogeneity.\u001b[39;00m\n\u001b[0;32m   4173\u001b[0m \u001b[39m    \"\"\"\u001b[39;00m\n\u001b[1;32m-> 4174\u001b[0m     value \u001b[39m=\u001b[39m \u001b[39mself\u001b[39;49m\u001b[39m.\u001b[39;49m_sanitize_column(value)\n\u001b[0;32m   4176\u001b[0m     \u001b[39mif\u001b[39;00m (\n\u001b[0;32m   4177\u001b[0m         key \u001b[39min\u001b[39;00m \u001b[39mself\u001b[39m\u001b[39m.\u001b[39mcolumns\n\u001b[0;32m   4178\u001b[0m         \u001b[39mand\u001b[39;00m value\u001b[39m.\u001b[39mndim \u001b[39m==\u001b[39m \u001b[39m1\u001b[39m\n\u001b[0;32m   4179\u001b[0m         \u001b[39mand\u001b[39;00m \u001b[39mnot\u001b[39;00m is_extension_array_dtype(value)\n\u001b[0;32m   4180\u001b[0m     ):\n\u001b[0;32m   4181\u001b[0m         \u001b[39m# broadcast across multiple columns if necessary\u001b[39;00m\n\u001b[0;32m   4182\u001b[0m         \u001b[39mif\u001b[39;00m \u001b[39mnot\u001b[39;00m \u001b[39mself\u001b[39m\u001b[39m.\u001b[39mcolumns\u001b[39m.\u001b[39mis_unique \u001b[39mor\u001b[39;00m \u001b[39misinstance\u001b[39m(\u001b[39mself\u001b[39m\u001b[39m.\u001b[39mcolumns, MultiIndex):\n",
            "File \u001b[1;32mc:\\Users\\vuanh\\anaconda3\\lib\\site-packages\\pandas\\core\\frame.py:4915\u001b[0m, in \u001b[0;36mDataFrame._sanitize_column\u001b[1;34m(self, value)\u001b[0m\n\u001b[0;32m   4912\u001b[0m     \u001b[39mreturn\u001b[39;00m _reindex_for_setitem(Series(value), \u001b[39mself\u001b[39m\u001b[39m.\u001b[39mindex)\n\u001b[0;32m   4914\u001b[0m \u001b[39mif\u001b[39;00m is_list_like(value):\n\u001b[1;32m-> 4915\u001b[0m     com\u001b[39m.\u001b[39;49mrequire_length_match(value, \u001b[39mself\u001b[39;49m\u001b[39m.\u001b[39;49mindex)\n\u001b[0;32m   4916\u001b[0m \u001b[39mreturn\u001b[39;00m sanitize_array(value, \u001b[39mself\u001b[39m\u001b[39m.\u001b[39mindex, copy\u001b[39m=\u001b[39m\u001b[39mTrue\u001b[39;00m, allow_2d\u001b[39m=\u001b[39m\u001b[39mTrue\u001b[39;00m)\n",
            "File \u001b[1;32mc:\\Users\\vuanh\\anaconda3\\lib\\site-packages\\pandas\\core\\common.py:571\u001b[0m, in \u001b[0;36mrequire_length_match\u001b[1;34m(data, index)\u001b[0m\n\u001b[0;32m    567\u001b[0m \u001b[39m\"\"\"\u001b[39;00m\n\u001b[0;32m    568\u001b[0m \u001b[39mCheck the length of data matches the length of the index.\u001b[39;00m\n\u001b[0;32m    569\u001b[0m \u001b[39m\"\"\"\u001b[39;00m\n\u001b[0;32m    570\u001b[0m \u001b[39mif\u001b[39;00m \u001b[39mlen\u001b[39m(data) \u001b[39m!=\u001b[39m \u001b[39mlen\u001b[39m(index):\n\u001b[1;32m--> 571\u001b[0m     \u001b[39mraise\u001b[39;00m \u001b[39mValueError\u001b[39;00m(\n\u001b[0;32m    572\u001b[0m         \u001b[39m\"\u001b[39m\u001b[39mLength of values \u001b[39m\u001b[39m\"\u001b[39m\n\u001b[0;32m    573\u001b[0m         \u001b[39mf\u001b[39m\u001b[39m\"\u001b[39m\u001b[39m(\u001b[39m\u001b[39m{\u001b[39;00m\u001b[39mlen\u001b[39m(data)\u001b[39m}\u001b[39;00m\u001b[39m) \u001b[39m\u001b[39m\"\u001b[39m\n\u001b[0;32m    574\u001b[0m         \u001b[39m\"\u001b[39m\u001b[39mdoes not match length of index \u001b[39m\u001b[39m\"\u001b[39m\n\u001b[0;32m    575\u001b[0m         \u001b[39mf\u001b[39m\u001b[39m\"\u001b[39m\u001b[39m(\u001b[39m\u001b[39m{\u001b[39;00m\u001b[39mlen\u001b[39m(index)\u001b[39m}\u001b[39;00m\u001b[39m)\u001b[39m\u001b[39m\"\u001b[39m\n\u001b[0;32m    576\u001b[0m     )\n",
            "\u001b[1;31mValueError\u001b[0m: Length of values (159) does not match length of index (5880)"
          ]
        }
      ],
      "source": []
    }
  ],
  "metadata": {
    "colab": {
      "provenance": []
    },
    "kernelspec": {
      "display_name": "Python 3",
      "name": "python3"
    },
    "language_info": {
      "codemirror_mode": {
        "name": "ipython",
        "version": 3
      },
      "file_extension": ".py",
      "mimetype": "text/x-python",
      "name": "python",
      "nbconvert_exporter": "python",
      "pygments_lexer": "ipython3",
      "version": "3.10.9"
    }
  },
  "nbformat": 4,
  "nbformat_minor": 0
}
